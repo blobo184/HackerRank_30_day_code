{
 "cells": [
  {
   "cell_type": "markdown",
   "id": "intensive-election",
   "metadata": {},
   "source": [
    "# This notebook gives python 3 solutions to HackerRank 30 days of Code. \n",
    "https://www.hackerrank.com/domains/tutorials/30-days-of-code"
   ]
  },
  {
   "cell_type": "markdown",
   "id": "worst-haiti",
   "metadata": {},
   "source": [
    "### Day 0: Hello, World.\n",
    "The first challene is a simle print statement\n"
   ]
  },
  {
   "cell_type": "code",
   "execution_count": null,
   "id": "cardiovascular-enhancement",
   "metadata": {},
   "outputs": [],
   "source": [
    "# Read a full line of input from stdin and save it to our dynamically typed variable, input_string.\n",
    "input_string = input()\n",
    "\n",
    "# Print a string literal saying \"Hello, World.\" to stdout.\n",
    "print('Hello, World.')\n",
    "\n",
    "# TODO: Write a line of code here that prints the contents of input_string to stdout.\n",
    "print(input_string)"
   ]
  },
  {
   "cell_type": "markdown",
   "id": "sorted-positive",
   "metadata": {},
   "source": [
    "### Day 1: Data Types\n",
    "\n",
    "This challege requires reading different file types in from stdin.\n",
    "\n",
    "Then you need to add together with i,d, or s and print results.\n"
   ]
  },
  {
   "cell_type": "code",
   "execution_count": null,
   "id": "adjustable-collaboration",
   "metadata": {},
   "outputs": [],
   "source": [
    "i = 4\n",
    "d = 4.0\n",
    "s = 'HackerRank '\n",
    "# Declare second integer, double, and String variables.\n",
    "# Read and save an integer, double, and String to your variables.\n",
    "j = int(input())\n",
    "e = float(input())\n",
    "t = str(input())\n",
    "# Print the sum of both integer variables on a new line.\n",
    "print(i+j)\n",
    "# Print the sum of the double variables on a new line.\n",
    "print(d+e)\n",
    "# Concatenate and print the String variables on a new line\n",
    "print(s+t)\n",
    "# The 's' variable above should be printed first."
   ]
  },
  {
   "cell_type": "markdown",
   "id": "overall-directory",
   "metadata": {},
   "source": [
    "### Day 2: Operators\n",
    "Given the meal price, tip percentage, and tax, calculate the total cost rounded to nearest interer"
   ]
  },
  {
   "cell_type": "code",
   "execution_count": 1,
   "id": "voluntary-tenant",
   "metadata": {},
   "outputs": [
    {
     "name": "stdout",
     "output_type": "stream",
     "text": [
      "15\n"
     ]
    }
   ],
   "source": [
    "import math\n",
    "import os\n",
    "import random\n",
    "import re\n",
    "import sys\n",
    "\n",
    "# Complete the 'solve' function below.\n",
    "# The function accepts following parameters:\n",
    "#  1. DOUBLE meal_cost\n",
    "#  2. INTEGER tip_percent\n",
    "#  3. INTEGER tax_percent\n",
    "#\n",
    "def solve(meal_cost, tip_percent, tax_percent):\n",
    "    tip = meal_cost * (tip_percent/100)\n",
    "    tax = meal_cost * (tax_percent/100)\n",
    "    out = round(meal_cost + tip + tax)\n",
    "    print(out)\n",
    "solve(12.00, 20, 8)"
   ]
  },
  {
   "cell_type": "markdown",
   "id": "muslim-thompson",
   "metadata": {},
   "source": [
    "### Day 3: Inro to conditional statements\n",
    "\n",
    "This task was to use if statements to print whether number is 'weird'.\n",
    "\n",
    "- If odd print 'Weird'\n",
    "- If even and between 2-5, print 'Not Weird'\n",
    "- If even and between 6-20, print 'Not Weird'\n",
    "- If even and  > 20, print 'Not Weird'"
   ]
  },
  {
   "cell_type": "code",
   "execution_count": null,
   "id": "strategic-advantage",
   "metadata": {},
   "outputs": [],
   "source": [
    "if (N % 2 != 0):\n",
    "    print(\"Weird\")\n",
    "elif N>=2 and N<=5:\n",
    "    print(\"Not Weird\")\n",
    "elif N>=6 and N<=20:\n",
    "    print(\"Weird\")\n",
    "elif N > 20:\n",
    "    print(\"Not Weird\")\n"
   ]
  }
 ],
 "metadata": {
  "kernelspec": {
   "display_name": "Python 3",
   "language": "python",
   "name": "python3"
  },
  "language_info": {
   "codemirror_mode": {
    "name": "ipython",
    "version": 3
   },
   "file_extension": ".py",
   "mimetype": "text/x-python",
   "name": "python",
   "nbconvert_exporter": "python",
   "pygments_lexer": "ipython3",
   "version": "3.8.5"
  }
 },
 "nbformat": 4,
 "nbformat_minor": 5
}

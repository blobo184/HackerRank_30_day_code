{
 "cells": [
  {
   "cell_type": "markdown",
   "id": "bored-initial",
   "metadata": {},
   "source": [
    "# This notebook gives python 3 solutions to HackerRank 30 days of Code. \n",
    "https://www.hackerrank.com/domains/tutorials/30-days-of-code"
   ]
  },
  {
   "cell_type": "markdown",
   "id": "searching-austria",
   "metadata": {},
   "source": [
    "### Day 0: Hello, World.\n",
    "The first challene is a simle print statement\n"
   ]
  },
  {
   "cell_type": "code",
   "execution_count": null,
   "id": "sublime-ghana",
   "metadata": {},
   "outputs": [],
   "source": [
    "# Read a full line of input from stdin and save it to our dynamically typed variable, input_string.\n",
    "input_string = input()\n",
    "\n",
    "# Print a string literal saying \"Hello, World.\" to stdout.\n",
    "print('Hello, World.')\n",
    "\n",
    "# TODO: Write a line of code here that prints the contents of input_string to stdout.\n",
    "print(input_string)"
   ]
  },
  {
   "cell_type": "markdown",
   "id": "breeding-jacksonville",
   "metadata": {},
   "source": [
    "### Day 1: Data Types\n",
    "\n",
    "This challege requires reading different file types in from stdin.\n",
    "\n",
    "Then you need to add together with i,d, or s and print results.\n"
   ]
  },
  {
   "cell_type": "code",
   "execution_count": null,
   "id": "robust-campaign",
   "metadata": {},
   "outputs": [],
   "source": [
    "i = 4\n",
    "d = 4.0\n",
    "s = 'HackerRank '\n",
    "# Declare second integer, double, and String variables.\n",
    "# Read and save an integer, double, and String to your variables.\n",
    "j = int(input())\n",
    "e = float(input())\n",
    "t = str(input())\n",
    "# Print the sum of both integer variables on a new line.\n",
    "print(i+j)\n",
    "# Print the sum of the double variables on a new line.\n",
    "print(d+e)\n",
    "# Concatenate and print the String variables on a new line\n",
    "print(s+t)\n",
    "# The 's' variable above should be printed first."
   ]
  },
  {
   "cell_type": "markdown",
   "id": "eastern-richards",
   "metadata": {},
   "source": [
    "### Day 2: Operators\n",
    "Given the meal price, tip percentage, and tax, calculate the total cost rounded to nearest interer"
   ]
  },
  {
   "cell_type": "code",
   "execution_count": 1,
   "id": "critical-bikini",
   "metadata": {},
   "outputs": [
    {
     "name": "stdout",
     "output_type": "stream",
     "text": [
      "15\n"
     ]
    }
   ],
   "source": [
    "import math\n",
    "import os\n",
    "import random\n",
    "import re\n",
    "import sys\n",
    "\n",
    "# Complete the 'solve' function below.\n",
    "# The function accepts following parameters:\n",
    "#  1. DOUBLE meal_cost\n",
    "#  2. INTEGER tip_percent\n",
    "#  3. INTEGER tax_percent\n",
    "#\n",
    "def solve(meal_cost, tip_percent, tax_percent):\n",
    "    tip = meal_cost * (tip_percent/100)\n",
    "    tax = meal_cost * (tax_percent/100)\n",
    "    out = round(meal_cost + tip + tax)\n",
    "    print(out)\n",
    "solve(12.00, 20, 8)"
   ]
  },
  {
   "cell_type": "markdown",
   "id": "interested-frequency",
   "metadata": {},
   "source": [
    "### Day 3: Inro to conditional statements\n",
    "\n",
    "This task was to use if statements to print whether number is 'weird'.\n",
    "\n",
    "- If odd print 'Weird'\n",
    "- If even and between 2-5, print 'Not Weird'\n",
    "- If even and between 6-20, print 'Not Weird'\n",
    "- If even and  > 20, print 'Not Weird'"
   ]
  },
  {
   "cell_type": "code",
   "execution_count": null,
   "id": "straight-experience",
   "metadata": {},
   "outputs": [],
   "source": [
    "if (N % 2 != 0):\n",
    "    print(\"Weird\")\n",
    "elif N>=2 and N<=5:\n",
    "    print(\"Not Weird\")\n",
    "elif N>=6 and N<=20:\n",
    "    print(\"Weird\")\n",
    "elif N > 20:\n",
    "    print(\"Not Weird\")\n"
   ]
  },
  {
   "cell_type": "markdown",
   "id": "organizational-conditions",
   "metadata": {},
   "source": [
    "### Day 4: Class vs instance\n",
    "\n",
    "The constructor must assign initialAge to Age. Check that age >=0, if not set age to 0 and print \"Age is not valid\". Next yearPasses() should increase the  instance variable by . Then amIOld() should print \"You are young\" if age < 13, print \"You are a teenager.\" if age >= 13 and age < 18, or print \"You are old.\""
   ]
  },
  {
   "cell_type": "code",
   "execution_count": null,
   "id": "finished-olive",
   "metadata": {},
   "outputs": [],
   "source": [
    "class Person:\n",
    "    def __init__(self,initialAge):\n",
    "        self.age = int(initialAge)\n",
    "        if self.age < 0:\n",
    "            age = 0\n",
    "            print(\"Age is not valid, setting age to 0.\")\n",
    "    def amIOld(self):\n",
    "        if self.age < 13:\n",
    "            print(\"You are young.\")\n",
    "        elif self.age >= 13 and self.age < 18:\n",
    "            print(\"You are a teenager.\")\n",
    "        elif self.age >= 18:\n",
    "            print(\"You are old.\")   \n",
    "        \n",
    "    def yearPasses(self):\n",
    "        self.age = self.age +1"
   ]
  },
  {
   "cell_type": "markdown",
   "id": "concrete-peeing",
   "metadata": {},
   "source": [
    "### Day 5: Loops\n",
    "For n (an interger), multiply n*i, and print \"n * i = result\""
   ]
  },
  {
   "cell_type": "code",
   "execution_count": null,
   "id": "speaking-family",
   "metadata": {},
   "outputs": [],
   "source": [
    "import math\n",
    "import os\n",
    "import random\n",
    "import re\n",
    "import sys\n",
    "\n",
    "if __name__ == '__main__':\n",
    "    n = int(input().strip())\n",
    "\n",
    "for i in range(1,11):\n",
    "    result = n *i\n",
    "    print(n, \"x\", i, \"=\", result, sep = \" \")\n"
   ]
  },
  {
   "cell_type": "markdown",
   "id": "attempted-italic",
   "metadata": {},
   "source": [
    "### Day 6: Let's review\n",
    "\n",
    "The first line contains an integer, N (the number of test cases).\n",
    "Each subsequent line (i) of N contain a string, S.\n",
    "And each of these lines contains a string. For each string print even indexed characters, follows by a space then the odd indexed characters.\n"
   ]
  },
  {
   "cell_type": "code",
   "execution_count": null,
   "id": "accredited-whale",
   "metadata": {},
   "outputs": [],
   "source": [
    "N = int(input())\n",
    "temp = []\n",
    "for i in range(0,N):\n",
    "    s = input()\n",
    "    temp.append(s)\n",
    "\n",
    "def even_odd(S):\n",
    "    out_1 = \"\"\n",
    "    out_2 = \"\"\n",
    "    for i in (range(0,len(S))):\n",
    "        if i % 2 == 0:\n",
    "            out_1 = out_1 + S[i]   \n",
    "        else:\n",
    "            out_2 = out_2 + S[i]\n",
    "    print(out_1, out_2, sep = \" \")\n",
    "\n",
    "for i in range(0, len(temp)):\n",
    "    even_odd(temp[i])"
   ]
  },
  {
   "cell_type": "markdown",
   "id": "editorial-graduate",
   "metadata": {},
   "source": [
    "Day 7: Arrays\n",
    "\n",
    "Given an array of N intergers, print the array in reverse order as a single line of space separated numbers. "
   ]
  },
  {
   "cell_type": "code",
   "execution_count": null,
   "id": "specific-surge",
   "metadata": {},
   "outputs": [],
   "source": [
    "out = []\n",
    "for i in arr:\n",
    "    out.insert(0,i)\n",
    "print(\" \".join(map(str, out))) # This joins \" \" to each element of the string. Iteratred through with map()"
   ]
  },
  {
   "cell_type": "code",
   "execution_count": null,
   "id": "gross-uniform",
   "metadata": {},
   "outputs": [],
   "source": []
  },
  {
   "cell_type": "code",
   "execution_count": null,
   "id": "suitable-leather",
   "metadata": {},
   "outputs": [],
   "source": []
  }
 ],
 "metadata": {
  "kernelspec": {
   "display_name": "Python 3",
   "language": "python",
   "name": "python3"
  },
  "language_info": {
   "codemirror_mode": {
    "name": "ipython",
    "version": 3
   },
   "file_extension": ".py",
   "mimetype": "text/x-python",
   "name": "python",
   "nbconvert_exporter": "python",
   "pygments_lexer": "ipython3",
   "version": "3.8.5"
  }
 },
 "nbformat": 4,
 "nbformat_minor": 5
}

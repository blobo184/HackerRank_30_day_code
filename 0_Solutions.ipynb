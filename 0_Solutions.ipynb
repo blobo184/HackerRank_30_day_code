{
 "cells": [
  {
   "cell_type": "markdown",
   "id": "electric-movement",
   "metadata": {},
   "source": [
    "# This notebook gives python 3 solutions to HackerRank 30 days of Code. \n",
    "https://www.hackerrank.com/domains/tutorials/30-days-of-code"
   ]
  },
  {
   "cell_type": "markdown",
   "id": "orange-popularity",
   "metadata": {},
   "source": [
    "### Day 0: Hello, World.\n",
    "The first challene is a simle print statement\n"
   ]
  },
  {
   "cell_type": "code",
   "execution_count": null,
   "id": "dimensional-township",
   "metadata": {},
   "outputs": [],
   "source": [
    "# Read a full line of input from stdin and save it to our dynamically typed variable, input_string.\n",
    "input_string = input()\n",
    "\n",
    "# Print a string literal saying \"Hello, World.\" to stdout.\n",
    "print('Hello, World.')\n",
    "\n",
    "# TODO: Write a line of code here that prints the contents of input_string to stdout.\n",
    "print(input_string)"
   ]
  },
  {
   "cell_type": "markdown",
   "id": "cognitive-norway",
   "metadata": {},
   "source": [
    "### Day 1: Data Types\n",
    "\n",
    "This challege requires reading different file types in from stdin.\n",
    "\n",
    "Then you need to add together with i,d, or s and print results.\n"
   ]
  },
  {
   "cell_type": "code",
   "execution_count": null,
   "id": "interim-alignment",
   "metadata": {},
   "outputs": [],
   "source": [
    "i = 4\n",
    "d = 4.0\n",
    "s = 'HackerRank '\n",
    "# Declare second integer, double, and String variables.\n",
    "# Read and save an integer, double, and String to your variables.\n",
    "j = int(input())\n",
    "e = float(input())\n",
    "t = str(input())\n",
    "# Print the sum of both integer variables on a new line.\n",
    "print(i+j)\n",
    "# Print the sum of the double variables on a new line.\n",
    "print(d+e)\n",
    "# Concatenate and print the String variables on a new line\n",
    "print(s+t)\n",
    "# The 's' variable above should be printed first."
   ]
  }
 ],
 "metadata": {
  "kernelspec": {
   "display_name": "Python 3",
   "language": "python",
   "name": "python3"
  },
  "language_info": {
   "codemirror_mode": {
    "name": "ipython",
    "version": 3
   },
   "file_extension": ".py",
   "mimetype": "text/x-python",
   "name": "python",
   "nbconvert_exporter": "python",
   "pygments_lexer": "ipython3",
   "version": "3.8.5"
  }
 },
 "nbformat": 4,
 "nbformat_minor": 5
}

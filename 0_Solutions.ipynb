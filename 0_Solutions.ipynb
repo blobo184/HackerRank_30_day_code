{
 "cells": [
  {
   "cell_type": "markdown",
   "id": "strange-digest",
   "metadata": {},
   "source": [
    "# This notebook gives python 3 solutions to HackerRank 30 days of Code. \n",
    "https://www.hackerrank.com/domains/tutorials/30-days-of-code\n",
    "\n",
    "Some of the solutions were solved by inspiration / help from this blog: https://programs.programmingoneonone.com/p/hackerrank-30-days-of-code-solutions.html"
   ]
  },
  {
   "cell_type": "markdown",
   "id": "clinical-norwegian",
   "metadata": {},
   "source": [
    "### Day 0: Hello, World.\n",
    "The first challene is a simle print statement\n"
   ]
  },
  {
   "cell_type": "code",
   "execution_count": null,
   "id": "everyday-drunk",
   "metadata": {},
   "outputs": [],
   "source": [
    "# Read a full line of input from stdin and save it to our dynamically typed variable, input_string.\n",
    "input_string = input()\n",
    "\n",
    "# Print a string literal saying \"Hello, World.\" to stdout.\n",
    "print('Hello, World.')\n",
    "\n",
    "# TODO: Write a line of code here that prints the contents of input_string to stdout.\n",
    "print(input_string)"
   ]
  },
  {
   "cell_type": "markdown",
   "id": "cardiovascular-philippines",
   "metadata": {},
   "source": [
    "### Day 1: Data Types\n",
    "\n",
    "This challege requires reading different file types in from stdin.\n",
    "\n",
    "Then you need to add together with i,d, or s and print results.\n"
   ]
  },
  {
   "cell_type": "code",
   "execution_count": 31,
   "id": "motivated-canvas",
   "metadata": {},
   "outputs": [
    {
     "name": "stdin",
     "output_type": "stream",
     "text": [
      " 5\n",
      " 5.0\n",
      " 'Hackerrank'\n"
     ]
    },
    {
     "name": "stdout",
     "output_type": "stream",
     "text": [
      "9\n",
      "9.0\n",
      "HackerRank 'Hackerrank'\n"
     ]
    }
   ],
   "source": [
    "i = 4\n",
    "d = 4.0\n",
    "s = 'HackerRank '\n",
    "\n",
    "# Declare second integer, double, and String variables.\n",
    "# Read and save an integer, double, and String to your variables.\n",
    "j = int(input())\n",
    "e = float(input())\n",
    "t = str(input())\n",
    "# Print the sum of both integer variables on a new line.\n",
    "print(i+j)\n",
    "# Print the sum of the double variables on a new line.\n",
    "print(d+e)\n",
    "# Concatenate and print the String variables on a new line\n",
    "print(s+t)\n",
    "# The 's' variable above should be printed first."
   ]
  },
  {
   "cell_type": "markdown",
   "id": "female-continuity",
   "metadata": {},
   "source": [
    "### Day 2: Operators\n",
    "Given the meal price, tip percentage, and tax, calculate the total cost rounded to nearest interer"
   ]
  },
  {
   "cell_type": "code",
   "execution_count": 41,
   "id": "western-fifty",
   "metadata": {},
   "outputs": [
    {
     "name": "stdout",
     "output_type": "stream",
     "text": [
      "15\n"
     ]
    }
   ],
   "source": [
    "import math\n",
    "import os\n",
    "import random\n",
    "import re\n",
    "import sys\n",
    "\n",
    "# Complete the 'solve' function below.\n",
    "# The function accepts following parameters:\n",
    "#  1. DOUBLE meal_cost\n",
    "#  2. INTEGER tip_percent\n",
    "#  3. INTEGER tax_percent\n",
    "#\n",
    "def solve(meal_cost, tip_percent, tax_percent):\n",
    "    tip = meal_cost * (tip_percent/100)\n",
    "    tax = meal_cost * (tax_percent/100)\n",
    "    out = round(meal_cost + tip + tax)\n",
    "    print(out)\n",
    "    \n",
    "# Solution test\n",
    "solve(12.00, 20, 8)"
   ]
  },
  {
   "cell_type": "markdown",
   "id": "requested-transcription",
   "metadata": {},
   "source": [
    "### Day 3: Intro to conditional statements\n",
    "\n",
    "This task was to use if statements to print whether number is 'weird'.\n",
    "\n",
    "- If odd print 'Weird'\n",
    "- If even and between 2-5, print 'Not Weird'\n",
    "- If even and between 6-20, print 'Not Weird'\n",
    "- If even and  > 20, print 'Not Weird'"
   ]
  },
  {
   "cell_type": "code",
   "execution_count": 42,
   "id": "southwest-official",
   "metadata": {},
   "outputs": [
    {
     "name": "stdout",
     "output_type": "stream",
     "text": [
      "Weird\n",
      "Weird\n",
      "Not Weird\n",
      "Weird\n",
      "Weird\n",
      "Not Weird\n"
     ]
    }
   ],
   "source": [
    "#solution\n",
    "def cond(N):\n",
    "    if (N % 2 != 0):\n",
    "        print(\"Weird\")\n",
    "    elif N>=2 and N<=5:\n",
    "        print(\"Not Weird\")\n",
    "    elif N>=6 and N<=20:\n",
    "        print(\"Weird\")\n",
    "    elif N > 20:\n",
    "        print(\"Not Weird\")\n",
    "\n",
    "        \n",
    "# Solution test\n",
    "test_array = [73,6,2,5,99,22]\n",
    "for i in test_array:\n",
    "    cond(i)"
   ]
  },
  {
   "cell_type": "markdown",
   "id": "acoustic-series",
   "metadata": {},
   "source": [
    "### Day 4: Class vs instance\n",
    "\n",
    "The constructor must assign initialAge to Age. Check that age >=0, if not set age to 0 and print \"Age is not valid\". Next yearPasses() should increase the  instance variable by . Then amIOld() should print \"You are young\" if age < 13, print \"You are a teenager.\" if age >= 13 and age < 18, or print \"You are old.\""
   ]
  },
  {
   "cell_type": "code",
   "execution_count": 49,
   "id": "charming-spring",
   "metadata": {},
   "outputs": [
    {
     "name": "stdout",
     "output_type": "stream",
     "text": [
      "Age is not valid, setting age to 0.\n",
      "You are young.\n",
      "1\n"
     ]
    }
   ],
   "source": [
    "# Solution\n",
    "class Person:\n",
    "    def __init__(self,initialAge):\n",
    "        self.age = int(initialAge)\n",
    "        if self.age < 0:\n",
    "            self.age = 0\n",
    "            print(\"Age is not valid, setting age to 0.\")\n",
    "    def amIOld(self):\n",
    "        if self.age < 13:\n",
    "            print(\"You are young.\")\n",
    "        elif self.age >= 13 and self.age < 18:\n",
    "            print(\"You are a teenager.\")\n",
    "        elif self.age >= 18:\n",
    "            print(\"You are old.\")   \n",
    "        \n",
    "    def yearPasses(self):\n",
    "        self.age = self.age +1\n",
    "\n",
    "# Solution test\n",
    "test = Person(-30) # Initial age\n",
    "test.amIOld() # Am i Old function\n",
    "test.yearPasses() # + 1 function\n",
    "print(test.age) # Check new age"
   ]
  },
  {
   "cell_type": "markdown",
   "id": "right-elephant",
   "metadata": {},
   "source": [
    "### Day 5: Loops\n",
    "For n (an interger), multiply n*i, where i goes from 1-10.\\\n",
    "\\\n",
    "Print the result in the format: n x i = result."
   ]
  },
  {
   "cell_type": "code",
   "execution_count": 52,
   "id": "lesbian-wealth",
   "metadata": {},
   "outputs": [
    {
     "name": "stdin",
     "output_type": "stream",
     "text": [
      " 10\n"
     ]
    },
    {
     "name": "stdout",
     "output_type": "stream",
     "text": [
      "10 x 1 = 10\n",
      "10 x 2 = 20\n",
      "10 x 3 = 30\n",
      "10 x 4 = 40\n",
      "10 x 5 = 50\n",
      "10 x 6 = 60\n",
      "10 x 7 = 70\n",
      "10 x 8 = 80\n",
      "10 x 9 = 90\n",
      "10 x 10 = 100\n"
     ]
    }
   ],
   "source": [
    "# Solution\n",
    "if __name__ == '__main__':\n",
    "    n = int(input().strip())\n",
    "\n",
    "for i in range(1,11):\n",
    "    result = n *i\n",
    "    print(n, \"x\", i, \"=\", result, sep = \" \")\n",
    "\n",
    "\n",
    "# Testing Solution\n"
   ]
  },
  {
   "cell_type": "markdown",
   "id": "enabling-camel",
   "metadata": {},
   "source": [
    "### Day 6: Let's review\n",
    "\n",
    "The first line contains an integer, N (the number of test cases).\n",
    "Each subsequent line (i) of N contain a string, S.\n",
    "And each of these lines contains a string. For each string print even indexed characters, follows by a space then the odd indexed characters.\n"
   ]
  },
  {
   "cell_type": "code",
   "execution_count": 55,
   "id": "about-launch",
   "metadata": {},
   "outputs": [
    {
     "name": "stdin",
     "output_type": "stream",
     "text": [
      " 3\n",
      " Testing\n",
      " the\n",
      " Solution\n"
     ]
    },
    {
     "name": "stdout",
     "output_type": "stream",
     "text": [
      "Tsig etn\n",
      "te h\n",
      "Slto ouin\n"
     ]
    }
   ],
   "source": [
    "N = int(input())\n",
    "temp = []\n",
    "for i in range(0,N):\n",
    "    s = input()\n",
    "    temp.append(s)\n",
    "\n",
    "def even_odd(S):\n",
    "    out_1 = \"\"\n",
    "    out_2 = \"\"\n",
    "    for i in (range(0,len(S))):\n",
    "        if i % 2 == 0:\n",
    "            out_1 = out_1 + S[i]   \n",
    "        else:\n",
    "            out_2 = out_2 + S[i]\n",
    "    print(out_1, out_2, sep = \" \")\n",
    "\n",
    "for i in range(0, len(temp)):\n",
    "    even_odd(temp[i])"
   ]
  },
  {
   "cell_type": "markdown",
   "id": "champion-investigation",
   "metadata": {},
   "source": [
    "### Day 7: Arrays\n",
    "\n",
    "Given an array of N intergers, print the array in reverse order as a single line of space separated numbers. "
   ]
  },
  {
   "cell_type": "code",
   "execution_count": 1,
   "id": "documented-cathedral",
   "metadata": {},
   "outputs": [
    {
     "name": "stdin",
     "output_type": "stream",
     "text": [
      " 10 10 5 6 2\n"
     ]
    },
    {
     "name": "stdout",
     "output_type": "stream",
     "text": [
      "2 6 5 10 10\n"
     ]
    }
   ],
   "source": [
    "# Solution\n",
    "arr = list(map(int, input().rstrip().split()))\n",
    "out = []\n",
    "for i in arr:\n",
    "    out.insert(0,i)\n",
    "print(\" \".join(map(str, out))) # This joins \" \" to each element of the string. Iteratred through with map()\n",
    "\n",
    "# Testing solution\n"
   ]
  },
  {
   "cell_type": "markdown",
   "id": "immediate-sterling",
   "metadata": {},
   "source": [
    "### Day 8: Dictionaries and Maps\n",
    "\n",
    "Given N names and phone numbers, assemble a phone book that maps friends' names to their respective phone numbers. For each name, print the associated entry from your phone book on a new line in the form name=phoneNumber; if an entry for  is not found, print Not found instead."
   ]
  },
  {
   "cell_type": "code",
   "execution_count": null,
   "id": "earned-insulation",
   "metadata": {},
   "outputs": [],
   "source": [
    "x = int(input())\n",
    "\n",
    "dictt = {}\n",
    "\n",
    "for i in range(x):\n",
    "    text = input().split()\n",
    "    dictt[text[0]] = text[1]\n",
    "\n",
    "while True:\n",
    "    try:\n",
    "        inpt = input()\n",
    "        if inpt in dictt:\n",
    "            print(inpt+\"=\"+dictt[inpt])\n",
    "        else:\n",
    "            print(\"Not found\")\n",
    "    except EOFError:\n",
    "        break"
   ]
  },
  {
   "cell_type": "markdown",
   "id": "pretty-official",
   "metadata": {},
   "source": [
    "#### Day 9: Recursion 3\n",
    "\n",
    "Recursive solution to find factorial"
   ]
  },
  {
   "cell_type": "code",
   "execution_count": 9,
   "id": "recovered-intro",
   "metadata": {},
   "outputs": [
    {
     "name": "stdin",
     "output_type": "stream",
     "text": [
      " 7\n"
     ]
    },
    {
     "name": "stdout",
     "output_type": "stream",
     "text": [
      "5040\n"
     ]
    }
   ],
   "source": [
    "# Solution \n",
    "def factorial(n):\n",
    "    if n <= 1:\n",
    "        return(1)\n",
    "    else:\n",
    "        out = n * factorial(n-1)\n",
    "    return(out)\n",
    "\n",
    "# Testing solution\n",
    "n = int(input())\n",
    "print(factorial(n))"
   ]
  },
  {
   "cell_type": "markdown",
   "id": "fuzzy-collector",
   "metadata": {},
   "source": [
    "## Day 10: Binary Numbers\n",
    "\n",
    "Convert a numer to a binary representation. Then print out the maximum number of consecutive 1s in binary number format."
   ]
  },
  {
   "cell_type": "code",
   "execution_count": 10,
   "id": "stylish-system",
   "metadata": {},
   "outputs": [
    {
     "name": "stdin",
     "output_type": "stream",
     "text": [
      " 6454654974846\n"
     ]
    },
    {
     "name": "stdout",
     "output_type": "stream",
     "text": [
      "6\n"
     ]
    }
   ],
   "source": [
    "n = int(input())\n",
    "bin_num = bin(n)[2:]\n",
    "print(len(max(bin_num.replace('0', ' ').split(), key=len)))"
   ]
  },
  {
   "cell_type": "markdown",
   "id": "alpha-armenia",
   "metadata": {},
   "source": [
    "## Day 11: 2D Arrays\n",
    "\n",
    "In a 2D array, calculate the sum of all hourglasses, and print max sum value."
   ]
  },
  {
   "cell_type": "code",
   "execution_count": null,
   "id": "compact-thriller",
   "metadata": {},
   "outputs": [],
   "source": [
    "out = []\n",
    "temp_sum = 0\n",
    "for i in range(0,4):\n",
    "    for t in range(0,4):\n",
    "        ## Top row\n",
    "        temp_sum = temp_sum+ sum(arr[i][t:t+3]);\n",
    "        \n",
    "        ## Middle row\n",
    "        temp_sum = temp_sum+(arr[i+1][t+1]);\n",
    "        \n",
    "        ## Bottom row\n",
    "        temp_sum = temp_sum+ sum(arr[i+2][t:t+3]);\n",
    "        \n",
    "        out.append(temp_sum)\n",
    "        temp_sum = 0\n",
    "        \n",
    "print(max(out))\n"
   ]
  },
  {
   "cell_type": "markdown",
   "id": "initial-system",
   "metadata": {},
   "source": [
    "## Day 12: Inheritance\n",
    "\n",
    "You are given two classes, Person and Student, where Person is the base class and Student is the derived class. Completed code for Person and a declaration for Student are provided for you in the editor. Observe that Student inherits all the properties of Person.\n",
    "\n",
    "Complete the Student class by writing the following:\n",
    "\n",
    "A Student class constructor, which has  parameters:\n",
    "- A string, *firstname*.\n",
    "- A string, *lastname*.\n",
    "- An integer, *idNumber*.\n",
    "- An integer array (or vector) of test scores, *scores*.\n",
    "- A char calculate() method that calculates a Student object's average and returns the grade character representative of their calculated average:\n",
    "\n",
    "O = 90 $\\leq$ grade $\\ge$ 100\\\n",
    "E = 80 $\\leq$ grade $\\ge$ 90\\\n",
    "A = 70 $\\leq$ grade $\\ge$ 80\\\n",
    "P = 55 $\\leq$ grade $\\ge$ 70\\\n",
    "D = 40 $\\leq$ grade $\\ge$ 55\\\n",
    "T = grade < 40"
   ]
  },
  {
   "cell_type": "code",
   "execution_count": 27,
   "id": "alpine-arizona",
   "metadata": {},
   "outputs": [],
   "source": [
    "# Solution\n",
    "class Person:\n",
    "    def __init__(self, firstName, lastName, idNumber):\n",
    "        self.firstName = firstName\n",
    "        self.lastName = lastName\n",
    "        self.idNumber = idNumber\n",
    "    def printPerson(self):\n",
    "        print(\"Name:\", self.lastName + \",\", self.firstName)\n",
    "        print(\"ID:\", self.idNumber)\n",
    "        \n",
    "class Student(Person):\n",
    "    #   Class Constructor\n",
    "    #   \n",
    "    #   Parameters:\n",
    "    #   firstName - A string denoting the Person's first name.\n",
    "    #   lastName - A string denoting the Person's last name.\n",
    "    #   id - An integer denoting the Person's ID number.\n",
    "    #   scores - An array of integers denoting the Person's test scores.\n",
    "    #\n",
    "    # Write your constructor here\n",
    "    \n",
    "\n",
    "    #   Function Name: calculate\n",
    "    #   Return: A character denoting the grade.\n",
    "    #\n",
    "    def __init__(self, firstName, lastName, idNum, scores):\n",
    "\n",
    "        self.firstName = firstName\n",
    "        self.lastName = lastName\n",
    "        self.idNum = idNum\n",
    "        self.scores = scores\n",
    "    \n",
    "    def printPerson(self):\n",
    "        print(\"Name:\", self.lastName + \",\", self.firstName)\n",
    "        print(\"ID:\", self.idNum)\n",
    "\n",
    "    def calculate(self):\n",
    "        n = len(self.scores)\n",
    "        grade_temp = sum(self.scores) / int(n)\n",
    "        if 90<= grade_temp <= 100:\n",
    "            return 'O'\n",
    "        elif 80<= grade_temp < 90:\n",
    "            return 'E'\n",
    "        elif 70<= grade_temp < 80:\n",
    "            return 'A'\n",
    "        elif 55<= grade_temp < 70:\n",
    "            return 'P'\n",
    "        elif 40<= grade_temp < 55:\n",
    "            return 'D'\n",
    "        else:\n",
    "            return 'T'"
   ]
  },
  {
   "cell_type": "code",
   "execution_count": 28,
   "id": "underlying-leadership",
   "metadata": {},
   "outputs": [
    {
     "name": "stdout",
     "output_type": "stream",
     "text": [
      "Name: Memelli, Heraldo\n",
      "ID: 8135627\n",
      "Grade: T\n"
     ]
    }
   ],
   "source": [
    "# Testing solution\n",
    "S = Student('Heraldo', 'Memelli', 8135627, [10,0])\n",
    "S.printPerson()\n",
    "print(\"Grade:\", S.calculate())"
   ]
  },
  {
   "cell_type": "markdown",
   "id": "warming-viking",
   "metadata": {},
   "source": [
    "## Abstract Classes\n",
    "\n",
    "Given a Book class and a Solution class, write a MyBook class that does the following:\\\n",
    "\\\n",
    "Inherits from Book\\\n",
    "Has a parameterized constructor taking these 3 parameters:\n",
    "- string *title*\n",
    "- string *author*\n",
    "- int *price*\n",
    "\n",
    "Implements the Book class' abstract display() method so it prints these 3 lines:\n",
    "- *Title:*, a space, and then the current instance's *title*.\n",
    "- *Author:*, a space, and then the current instance's *author*.\n",
    "- *Price:*, a space, and then the current instance's *price*."
   ]
  },
  {
   "cell_type": "code",
   "execution_count": 22,
   "id": "sealed-possible",
   "metadata": {},
   "outputs": [
    {
     "name": "stdin",
     "output_type": "stream",
     "text": [
      " Dune\n",
      " Frank Herbet\n",
      " 10\n"
     ]
    },
    {
     "name": "stdout",
     "output_type": "stream",
     "text": [
      "Title: Dune\n",
      "Author: Frank Herbet\n",
      "Price: 10\n"
     ]
    }
   ],
   "source": [
    "# Solution\n",
    "class MyBook(Book):\n",
    "    \n",
    "    def __init__(self, title, author, price):\n",
    "        \n",
    "        self.title = title\n",
    "        self.author = author\n",
    "        self.price = price\n",
    "        \n",
    "    def display(self):\n",
    "        \n",
    "        print(\"Title:\", title)\n",
    "        print(\"Author:\", author)\n",
    "        print(\"Price:\", price)\n",
    "\n",
    "# Testing solution\n",
    "title=input()\n",
    "author=input()\n",
    "price=int(input())\n",
    "new_novel=MyBook(title,author,price)\n",
    "new_novel.display()"
   ]
  },
  {
   "cell_type": "code",
   "execution_count": null,
   "id": "expressed-helen",
   "metadata": {},
   "outputs": [],
   "source": []
  },
  {
   "cell_type": "code",
   "execution_count": null,
   "id": "hawaiian-quantity",
   "metadata": {},
   "outputs": [],
   "source": []
  }
 ],
 "metadata": {
  "kernelspec": {
   "display_name": "Python 3",
   "language": "python",
   "name": "python3"
  },
  "language_info": {
   "codemirror_mode": {
    "name": "ipython",
    "version": 3
   },
   "file_extension": ".py",
   "mimetype": "text/x-python",
   "name": "python",
   "nbconvert_exporter": "python",
   "pygments_lexer": "ipython3",
   "version": "3.8.5"
  }
 },
 "nbformat": 4,
 "nbformat_minor": 5
}
